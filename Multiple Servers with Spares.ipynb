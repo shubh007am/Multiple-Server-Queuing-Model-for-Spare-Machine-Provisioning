{
 "cells": [
  {
   "cell_type": "code",
   "execution_count": 1,
   "id": "ad73e2ee",
   "metadata": {},
   "outputs": [],
   "source": [
    "import math\n",
    "import numpy as np \n",
    "import pandas as pd\n",
    "import matplotlib.pyplot as plt"
   ]
  },
  {
   "cell_type": "code",
   "execution_count": 2,
   "id": "8201dc60",
   "metadata": {},
   "outputs": [
    {
     "name": "stdout",
     "output_type": "stream",
     "text": [
      "Input the number of Operating Units \n",
      "3\n",
      "Input The number of Repair Channel \n",
      "2\n",
      "Input The number of Spare Standby Units \n",
      "1\n",
      "Input the failure Rate i.e 1/MTBF \n",
      "2\n",
      "Input the Repair Rate i.e. 1/MTTR \n",
      "3\n",
      "\n",
      " Average Number of Units in Repair at Any given Time is =  1.74\n",
      "\n",
      " Average Number of Units Which are in Operation at any given Time is =  2.11\n",
      "\n",
      " Total Downtime including Repair Time and Maintenance Delay Time is =  0.41\n",
      "\n",
      " Percentage Utilization of the System is =  70.49 %\n"
     ]
    }
   ],
   "source": [
    "num_oper_unit = int(input(\"Input the number of Operating Units \\n\"))\n",
    "num_Repair_Chan = int(input(\"Input The number of Repair Channel \\n\"))\n",
    "num_Spare_Units = int(input(\"Input The number of Spare Standby Units \\n\"))\n",
    "Lambda = float(input(\"Input the failure Rate i.e 1/MTBF \\n\"))\n",
    "mu = float(input(\"Input the Repair Rate i.e. 1/MTTR \\n\"))\n",
    "C = []\n",
    "s = 0\n",
    "if(num_Repair_Chan > num_Spare_Units):\n",
    "    for i in range(1,num_Spare_Units+1):\n",
    "        c = (pow(num_oper_unit*Lambda,i))/((math.factorial(i)*pow(mu,i)))\n",
    "        s = s+c\n",
    "        C.append(c)\n",
    "    for i in range(num_Spare_Units+1,num_Repair_Chan+1):\n",
    "        c = (pow(num_oper_unit,num_Spare_Units)*pow(Lambda,i)*math.factorial(num_oper_unit))/((math.factorial(i)*pow(mu,i)*math.factorial(num_oper_unit+num_Spare_Units-i)))\n",
    "        s = s+c\n",
    "        C.append(c)\n",
    "    for i in range(num_Repair_Chan+1,num_oper_unit+num_Spare_Units+1):\n",
    "        c = (pow(num_oper_unit,num_Spare_Units)*pow(Lambda,i)*math.factorial(num_oper_unit))/((math.factorial(num_Repair_Chan)*pow(mu,i)*pow(num_Repair_Chan,i-num_Repair_Chan)*(math.factorial(num_oper_unit+num_Spare_Units-i))))\n",
    "        s = s+c\n",
    "        C.append(c)\n",
    "elif(num_Repair_Chan <= num_Spare_Units):\n",
    "    for i in range(1,num_Repair_Chan+1):\n",
    "        c = (pow(num_oper_unit*Lambda,i))/((math.factorial(i)*pow(mu,i)))\n",
    "        s = s+c\n",
    "        C.append(c)\n",
    "    for i in range(num_Repair_Chan+1+1,num_Spare_Units+1):\n",
    "        c = (pow(num_oper_unit*Lambda,i))/((math.factorial(num_Repair_Chan)*pow(mu,i)*pow(num_Repair_Chan,i-num_Repair_Chan)))\n",
    "        s = s+c\n",
    "        C.append(c)\n",
    "    for i in range(num_Spare_Units+1,num_oper_unit+num_Spare_Units+1):\n",
    "        c = (pow(num_oper_unit,num_Spare_Units)*pow(Lambda,i)*math.factorial(num_oper_unit))/((math.factorial(num_Repair_Chan)*pow(mu,i)*pow(num_Repair_Chan,i-num_Repair_Chan)*(math.factorial(num_oper_unit+num_Spare_Units-i))))\n",
    "        s = s+c\n",
    "        C.append(c)    \n",
    "P0 = 1/(1+s)\n",
    "Pn = [i * P0 for i in C]\n",
    "Num_Units_Repair = 0\n",
    "for i in range(1,num_oper_unit+num_Spare_Units+1):\n",
    "    Num_Units_Repair = Num_Units_Repair + i * Pn[i-1]\n",
    "print(\"\\n Average Number of Units in Repair at Any given Time is = \", round(Num_Units_Repair,2))\n",
    "probability_Sum1 = 0\n",
    "probability_Sum2 = 0 \n",
    "for i in range(0,num_Spare_Units+1):\n",
    "    if(i==0):\n",
    "        probability_Sum1 = probability_Sum1+P0\n",
    "    elif(i>0):\n",
    "        probability_Sum1 = probability_Sum1+Pn[i-1]\n",
    "probability_Sum1 = num_oper_unit*probability_Sum1\n",
    "for i in range(num_Spare_Units+1,num_oper_unit+num_Spare_Units+1):\n",
    "    probability_Sum2=probability_Sum2+(num_oper_unit+num_Spare_Units-i)*Pn[i-1]\n",
    "Num_Units_Operating = probability_Sum1+probability_Sum2\n",
    "print(\"\\n Average Number of Units Which are in Operation at any given Time is = \", round(Num_Units_Operating,2)) \n",
    "Avg_Arrival_Rate = 0\n",
    "Avg_Arrival_Rate1 = 0\n",
    "Avg_Arrival_Rate2 = 0\n",
    "for i in range(0,num_Spare_Units+1):\n",
    "    if(i==0):\n",
    "        Avg_Arrival_Rate1 = Avg_Arrival_Rate1+P0\n",
    "    elif(i>0):\n",
    "        Avg_Arrival_Rate1 = Avg_Arrival_Rate1+Pn[i-1]\n",
    "Avg_Arrival_Rate1 = num_oper_unit*Lambda*Avg_Arrival_Rate1\n",
    "for i in range(num_Spare_Units+1,num_oper_unit+num_Spare_Units+1):\n",
    "    Avg_Arrival_Rate2=Avg_Arrival_Rate2+(num_oper_unit+num_Spare_Units-i)*Pn[i-1]\n",
    "Avg_Arrival_Rate2 = Lambda*Avg_Arrival_Rate2\n",
    "Avg_Arrival_Rate = Avg_Arrival_Rate1+Avg_Arrival_Rate2\n",
    "total_Downtime = Num_Units_Repair/Avg_Arrival_Rate\n",
    "print(\"\\n Total Downtime including Repair Time and Maintenance Delay Time is = \", round(total_Downtime,2))\n",
    "percentage_Utilization = 100*Num_Units_Operating/num_oper_unit\n",
    "print(\"\\n Percentage Utilization of the System is = \",round(percentage_Utilization,2), '%')"
   ]
  },
  {
   "cell_type": "code",
   "execution_count": 3,
   "id": "a6c6df99",
   "metadata": {},
   "outputs": [
    {
     "data": {
      "image/png": "[encoded data removed]",
      "text/plain": [
       "<Figure size 432x288 with 1 Axes>"
      ]
     },
     "metadata": {
      "needs_background": "light"
     },
     "output_type": "display_data"
    },
    {
     "data": {
      "text/plain": [
       "<Figure size 720x720 with 0 Axes>"
      ]
     },
     "metadata": {},
     "output_type": "display_data"
    }
   ],
   "source": [
    "plt.plot(Pn)\n",
    "plt.xlabel('No of Units in Repair at Any Given Time')\n",
    "plt.ylabel('Steady State Probability')\n",
    "plt.title('Probability Distribution of n Units in Repair')\n",
    "plt.figure(figsize=(10, 10))\n",
    "plt.show()"
   ]
  }
 ],
 "metadata": {
  "kernelspec": {
   "display_name": "Python 3",
   "language": "python",
   "name": "python3"
  },
  "language_info": {
   "codemirror_mode": {
    "name": "ipython",
    "version": 3
   },
   "file_extension": ".py",
   "mimetype": "text/x-python",
   "name": "python",
   "nbconvert_exporter": "python",
   "pygments_lexer": "ipython3",
   "version": "3.8.5"
  }
 },
 "nbformat": 4,
 "nbformat_minor": 5
}
